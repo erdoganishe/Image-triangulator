{
 "cells": [
  {
   "cell_type": "markdown",
   "id": "95355638",
   "metadata": {},
   "source": [
    "Image triangulator: random"
   ]
  },
  {
   "cell_type": "code",
   "execution_count": 3,
   "id": "681cb2c1",
   "metadata": {
    "scrolled": false
   },
   "outputs": [],
   "source": [
    "import numpy as np\n",
    "from PIL import Image, ImageDraw\n",
    "from scipy.spatial import Delaunay\n",
    "\n",
    "def draw_triangle_boundaries(image, max_triangle_size):\n",
    "    \"\"\"\n",
    "    Малює трикутники на зображенні залежно від розміру та заповнює їх середнім кольором.\n",
    "    \"\"\"\n",
    "    width, height = image.size\n",
    "\n",
    "    # Визначення кількості трикутників залежно від розміру зображення\n",
    "    num_triangles = int((width * height) / max_triangle_size)\n",
    "\n",
    "    # Генерація точок для Delaunay триангуляції\n",
    "    points = [\n",
    "        (0, 0),\n",
    "        (0, height),\n",
    "        (width, 0),\n",
    "        (width, height)\n",
    "    ]\n",
    "    for _ in range(num_triangles):\n",
    "        x = np.random.randint(0, width)\n",
    "        y = np.random.randint(0, height)\n",
    "        points.append((x, y))\n",
    "\n",
    "    # Виконуємо Delaunay триангуляцію\n",
    "    tri = Delaunay(points)\n",
    "\n",
    "    # Створення об'єкта для малювання\n",
    "    draw = ImageDraw.Draw(image)\n",
    "\n",
    "    # Малюємо трикутники\n",
    "    for triangle in tri.simplices:\n",
    "        # Отримуємо координати вершин трикутника\n",
    "        x1, y1 = points[triangle[0]]\n",
    "        x2, y2 = points[triangle[1]]\n",
    "        x3, y3 = points[triangle[2]]\n",
    "\n",
    "        # Отримуємо середній колір трикутника\n",
    "        triangle_pixels = image.crop((min(x1, x2, x3), min(y1, y2, y3), max(x1, x2, x3), max(y1, y2, y3)))\n",
    "        average_color = tuple(np.mean(triangle_pixels, axis=(0, 1)).astype(int))\n",
    "\n",
    "        # Малюємо трикутник з отриманим середнім кольором (без контуру)\n",
    "        draw.polygon([(x1, y1), (x2, y2), (x3, y3)], fill=average_color)\n",
    "\n",
    "    return image\n",
    "\n",
    "# Завантаження зображення\n",
    "image_path = \"4.jpg\"\n",
    "image = Image.open(f\"images/{image_path}\")\n",
    "\n",
    "# Максимальний розмір трикутника залежно від розміру зображення\n",
    "max_triangle_size = min(image.size) // 10\n",
    "\n",
    "# Малюємо трикутники без границь\n",
    "result_image = draw_triangle_boundaries(image, max_triangle_size)\n",
    "\n",
    "# Збереження зображення\n",
    "output_image_path = \"edited_images/triangled_\" +image_path \n",
    "result_image.save(output_image_path)\n",
    "\n",
    "# Відображення результату\n",
    "#result_image.show()\n"
   ]
  },
  {
   "cell_type": "code",
   "execution_count": null,
   "id": "4d545eaf",
   "metadata": {},
   "outputs": [],
   "source": []
  }
 ],
 "metadata": {
  "kernelspec": {
   "display_name": "Python 3 (ipykernel)",
   "language": "python",
   "name": "python3"
  },
  "language_info": {
   "codemirror_mode": {
    "name": "ipython",
    "version": 3
   },
   "file_extension": ".py",
   "mimetype": "text/x-python",
   "name": "python",
   "nbconvert_exporter": "python",
   "pygments_lexer": "ipython3",
   "version": "3.9.13"
  }
 },
 "nbformat": 4,
 "nbformat_minor": 5
}
