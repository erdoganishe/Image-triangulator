{
 "cells": [
  {
   "cell_type": "markdown",
   "id": "95355638",
   "metadata": {},
   "source": [
    "Image triangulator"
   ]
  },
  {
   "cell_type": "code",
   "execution_count": null,
   "id": "681cb2c1",
   "metadata": {},
   "outputs": [],
   "source": [
    "import numpy as np\n",
    "from PIL import Image, ImageDraw\n",
    "from scipy.spatial import Delaunay\n",
    "\n",
    "def draw_triangle_boundaries(image, max_triangle_size, color_difference_threshold):\n",
    "    \"\"\"\n",
    "    Малює трикутники на зображенні залежно від розміру та заповнює їх середнім кольором.\n",
    "    \"\"\"\n",
    "    width, height = image.size\n",
    "\n",
    "    # Визначення кількості трикутників залежно від розміру зображення\n",
    "    num_triangles = int((width * height) / max_triangle_size)\n",
    "\n",
    "    # Генерація точок для Delaunay триангуляції\n",
    "    step_size = int(max_triangle_size / 2)\n",
    "    x_coords = np.arange(0, width, step_size)\n",
    "    y_coords = np.arange(0, height, step_size)\n",
    "    points = [(x, y) for y in y_coords for x in x_coords]\n",
    "\n",
    "    # Виконуємо Delaunay триангуляцію на основі точок\n",
    "    tri = Delaunay(points)\n",
    "\n",
    "    # Створення об'єкта для малювання\n",
    "    draw = ImageDraw.Draw(image)\n",
    "\n",
    "    # Малюємо трикутники\n",
    "    for triangle in tri.simplices:\n",
    "        # Отримуємо координати вершин трикутника\n",
    "        x1, y1 = points[triangle[0]]\n",
    "        x2, y2 = points[triangle[1]]\n",
    "        x3, y3 = points[triangle[2]]\n",
    "\n",
    "        # Отримуємо кольори вершин трикутника\n",
    "        pixel1 = image.getpixel((x1, y1))\n",
    "        pixel2 = image.getpixel((x2, y2))\n",
    "        pixel3 = image.getpixel((x3, y3))\n",
    "\n",
    "        # Обчислюємо різницю кольорів між вершинами трикутника\n",
    "        color_difference = np.abs(np.array(pixel1) - np.array(pixel2)) + np.abs(np.array(pixel2) - np.array(pixel3)) + np.abs(np.array(pixel3) - np.array(pixel1))\n",
    "        average_color = tuple(np.mean([pixel1, pixel2, pixel3], axis=0).astype(int))\n",
    "\n",
    "        # Перевіряємо різницю кольорів з пороговим значенням\n",
    "        if np.any(color_difference > color_difference_threshold):\n",
    "            # Малюємо трикутник з отриманим середнім кольором (без контуру)\n",
    "            draw.polygon([(x1, y1), (x2, y2), (x3, y3)], fill=average_color)\n",
    "\n",
    "    return image\n",
    "\n",
    "# Завантаження зображення\n",
    "image_path = \"2.jpg\"\n",
    "image = Image.open(image_path)\n",
    "\n",
    "# Максимальний розмір трикутника залежно від розміру зображення\n",
    "max_triangle_size = min(image.size) // 10\n",
    "\n",
    "# Порогове значення для різниці кольорів\n",
    "color_difference_threshold = 50\n",
    "\n",
    "# Малюємо трикутники з використанням більш жорстких критеріїв\n",
    "result_image = draw_triangle_boundaries(image, max_triangle_size, color_difference_threshold)\n",
    "\n",
    "# Відображення результату\n",
    "result_image.show()\n"
   ]
  },
  {
   "cell_type": "code",
   "execution_count": null,
   "id": "4d545eaf",
   "metadata": {},
   "outputs": [],
   "source": []
  }
 ],
 "metadata": {
  "kernelspec": {
   "display_name": "Python 3 (ipykernel)",
   "language": "python",
   "name": "python3"
  },
  "language_info": {
   "codemirror_mode": {
    "name": "ipython",
    "version": 3
   },
   "file_extension": ".py",
   "mimetype": "text/x-python",
   "name": "python",
   "nbconvert_exporter": "python",
   "pygments_lexer": "ipython3",
   "version": "3.9.13"
  }
 },
 "nbformat": 4,
 "nbformat_minor": 5
}
