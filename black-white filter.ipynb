{
 "cells": [
  {
   "cell_type": "markdown",
   "id": "6db1715c",
   "metadata": {},
   "source": [
    "Black-white filter"
   ]
  },
  {
   "cell_type": "code",
   "execution_count": 5,
   "id": "e6cd5f6e",
   "metadata": {},
   "outputs": [],
   "source": [
    "from PIL import Image\n",
    "\n",
    "# Завантаження зображення\n",
    "image_path = \"4.jpg\"\n",
    "image = Image.open(f\"images/{image_path}\")\n",
    "\n",
    "# Конвертація в чорно-біле зображення\n",
    "bw_image = image.convert(\"L\")\n",
    "\n",
    "# Збереження чорно-білого зображення\n",
    "output_image_path = \"edited_images/bw_\" + image_path\n",
    "bw_image.save(output_image_path)\n",
    "\n",
    "# Відображення результату\n",
    "#bw_image.show()\n"
   ]
  },
  {
   "cell_type": "code",
   "execution_count": null,
   "id": "5073e33d",
   "metadata": {},
   "outputs": [],
   "source": []
  }
 ],
 "metadata": {
  "kernelspec": {
   "display_name": "Python 3 (ipykernel)",
   "language": "python",
   "name": "python3"
  },
  "language_info": {
   "codemirror_mode": {
    "name": "ipython",
    "version": 3
   },
   "file_extension": ".py",
   "mimetype": "text/x-python",
   "name": "python",
   "nbconvert_exporter": "python",
   "pygments_lexer": "ipython3",
   "version": "3.9.13"
  }
 },
 "nbformat": 4,
 "nbformat_minor": 5
}
