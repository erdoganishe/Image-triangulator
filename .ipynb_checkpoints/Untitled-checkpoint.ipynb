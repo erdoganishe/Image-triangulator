{
 "cells": [
  {
   "cell_type": "markdown",
   "id": "95355638",
   "metadata": {},
   "source": [
    "Image triangulator"
   ]
  },
  {
   "cell_type": "code",
   "execution_count": null,
   "id": "681cb2c1",
   "metadata": {},
   "outputs": [],
   "source": [
    "def draw_triangle_boundaries(image, max_triangle_size):\n",
    "    width, height = image.size\n",
    "    num_triangles = int((width * height) / max_triangle_size)\n",
    "    points = [\n",
    "        (0, 0),\n",
    "        (0, height),\n",
    "        (width, 0),\n",
    "        (width, height)\n",
    "    ]\n",
    "    for _ in range(num_triangles):\n",
    "        x = np.random.randint(0, width)\n",
    "        y = np.random.randint(0, height)\n",
    "        points.append((x, y))\n",
    "\n",
    "    tri = Delaunay(points)\n",
    "    draw = ImageDraw.Draw(image)\n",
    "\n",
    "    for triangle in tri.simplices:\n",
    "        x1, y1 = points[triangle[0]]\n",
    "        x2, y2 = points[triangle[1]]\n",
    "        x3, y3 = points[triangle[2]]\n",
    "\n",
    "        # Отримуємо кольори вершин трикутника\n",
    "        pixel1 = image.getpixel((x1, y1))\n",
    "        pixel2 = image.getpixel((x2, y2))\n",
    "        pixel3 = image.getpixel((x3, y3))\n",
    "\n",
    "        # Розрахунок різниць між кольорами\n",
    "        diff1 = color_difference(pixel1, pixel2)\n",
    "        diff2 = color_difference(pixel2, pixel3)\n",
    "        diff3 = color_difference(pixel3, pixel1)\n",
    "\n",
    "        if (\n",
    "            diff1 <= 128 and diff2 <= 128 and diff3 <= 128\n",
    "        ):\n",
    "            draw.polygon([(x1, y1), (x2, y2), (x3, y3)], outline='black')\n",
    "        else:\n",
    "            # Розділяємо трикутник на два нових\n",
    "            x_mid = (x1 + x2 + x3) // 3\n",
    "            y_mid = (y1 + y2 + y3) // 3\n",
    "\n",
    "            points.append((x_mid, y_mid))\n",
    "\n",
    "            draw.polygon([(x1, y1), (x_mid, y_mid), (x3, y3)], outline='black')\n",
    "            draw.polygon([(x_mid, y_mid), (x2, y2), (x3, y3)], outline='black')\n",
    "\n",
    "    return image\n"
   ]
  },
  {
   "cell_type": "code",
   "execution_count": null,
   "id": "4d545eaf",
   "metadata": {},
   "outputs": [],
   "source": []
  }
 ],
 "metadata": {
  "kernelspec": {
   "display_name": "Python 3 (ipykernel)",
   "language": "python",
   "name": "python3"
  },
  "language_info": {
   "codemirror_mode": {
    "name": "ipython",
    "version": 3
   },
   "file_extension": ".py",
   "mimetype": "text/x-python",
   "name": "python",
   "nbconvert_exporter": "python",
   "pygments_lexer": "ipython3",
   "version": "3.9.13"
  }
 },
 "nbformat": 4,
 "nbformat_minor": 5
}
